{
 "cells": [
  {
   "cell_type": "code",
   "execution_count": null,
   "id": "c561910e",
   "metadata": {},
   "outputs": [],
   "source": [
    "from core.utils import roll_expression"
   ]
  },
  {
   "cell_type": "code",
   "execution_count": 7,
   "id": "d41304e1",
   "metadata": {},
   "outputs": [
    {
     "name": "stdout",
     "output_type": "stream",
     "text": [
      "8\n"
     ]
    }
   ],
   "source": [
    "print(roll_expression(\"2d6 + 3\"))"
   ]
  },
  {
   "cell_type": "code",
   "execution_count": 10,
   "id": "f890fa64",
   "metadata": {},
   "outputs": [
    {
     "name": "stdout",
     "output_type": "stream",
     "text": [
      "Expression: 2D8 + [SPELLCASTING] + 2D8\n",
      "Result: 21\n"
     ]
    }
   ],
   "source": [
    "variables = {\"SPELLCASTING\": 5, \"MIND\": 4}\n",
    "mind_dice = variables[\"MIND\"] - 2\n",
    "expression = f\"2D8 + [SPELLCASTING] + {mind_dice}D8\"\n",
    "print(f\"Expression: {expression}\")\n",
    "print(f\"Result: {roll_expression(expression, variables)}\")"
   ]
  }
 ],
 "metadata": {
  "kernelspec": {
   "display_name": ".venv",
   "language": "python",
   "name": "python3"
  },
  "language_info": {
   "codemirror_mode": {
    "name": "ipython",
    "version": 3
   },
   "file_extension": ".py",
   "mimetype": "text/x-python",
   "name": "python",
   "nbconvert_exporter": "python",
   "pygments_lexer": "ipython3",
   "version": "3.12.3"
  }
 },
 "nbformat": 4,
 "nbformat_minor": 5
}
