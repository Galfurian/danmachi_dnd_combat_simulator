{
 "cells": [
  {
   "cell_type": "code",
   "execution_count": 1,
   "id": "7752c8e8",
   "metadata": {},
   "outputs": [
    {
     "name": "stdout",
     "output_type": "stream",
     "text": [
      "Validating John Doe...\n",
      "user=User(name='John Doe', hobbies=['reading'])\n",
      "user=User(name='John Doe', hobbies=['1'])\n",
      "Validating Jane Doe...\n",
      "user=SubUser(name='Jane Doe', hobbies=['scuba diving'], sins=['lying'])\n"
     ]
    }
   ],
   "source": [
    "from pydantic import BaseModel, Field\n",
    "\n",
    "\n",
    "class User(BaseModel, revalidate_instances=\"never\"):\n",
    "    name: str = Field(\n",
    "        description=\"The user's name\",\n",
    "    )\n",
    "    hobbies: list[str] = Field(\n",
    "        description=\"A list of the user's hobbies\",\n",
    "    )\n",
    "\n",
    "    def model_post_init(self, _: Any) -> None:\n",
    "        print(f\"Validating {self.name}...\")\n",
    "        if not self.name:\n",
    "            raise ValueError(\"name must not be empty\")\n",
    "        if not self.hobbies:\n",
    "            raise ValueError(\"hobbies must not be empty\")\n",
    "\n",
    "\n",
    "class SubUser(User):\n",
    "    sins: list[str]\n",
    "\n",
    "\n",
    "class Transaction(BaseModel):\n",
    "    user: User\n",
    "\n",
    "\n",
    "my_user = User(name=\"John Doe\", hobbies=[\"reading\"])\n",
    "t = Transaction(user=my_user)\n",
    "print(t)\n",
    "\n",
    "my_user.hobbies = [\"1\"]\n",
    "t = Transaction(user=my_user)\n",
    "print(t)\n",
    "\n",
    "my_sub_user = SubUser(name=\"Jane Doe\", hobbies=[\"scuba diving\"], sins=[\"lying\"])\n",
    "t = Transaction(user=my_sub_user)\n",
    "print(t)"
   ]
  },
  {
   "cell_type": "code",
   "execution_count": 2,
   "id": "1603c513",
   "metadata": {},
   "outputs": [
    {
     "name": "stdout",
     "output_type": "stream",
     "text": [
      "[1, 2, 3, 4, 5, 6]\n",
      "[1, 2, 3, 4, 5, 6]\n"
     ]
    }
   ],
   "source": [
    "list_a = [1, 2, 3]\n",
    "list_b = [4, 5, 6]\n",
    "\n",
    "\n",
    "def print_list(lst: list[int]) -> None:\n",
    "    print(lst)\n",
    "\n",
    "\n",
    "lists = [list_a, list_b]\n",
    "\n",
    "print_list(sum(lists, []))\n",
    "print_list([item for sublist in lists for item in sublist])"
   ]
  },
  {
   "cell_type": "code",
   "execution_count": 5,
   "id": "34a2f071",
   "metadata": {},
   "outputs": [
    {
     "name": "stdout",
     "output_type": "stream",
     "text": [
      "True\n",
      "MainDB\n"
     ]
    }
   ],
   "source": [
    "from typing import Any\n",
    "\n",
    "\n",
    "class Singleton(type):\n",
    "    def __init__(cls, name, bases, dict):\n",
    "        super(Singleton, cls).__init__(name, bases, dict)\n",
    "        cls.instance = None\n",
    "\n",
    "    def __call__(cls, *args, **kw):\n",
    "        if cls.instance is None:\n",
    "            cls.instance = super(Singleton, cls).__call__(*args, **kw)\n",
    "        return cls.instance\n",
    "\n",
    "\n",
    "class Database(metaclass=Singleton):\n",
    "    def __init__(self) -> None:\n",
    "        self.name: str = \"MainDB\"\n",
    "\n",
    "\n",
    "db1 = Database()\n",
    "db2 = Database()\n",
    "print(db1 is db2)\n",
    "print(db1.name)"
   ]
  }
 ],
 "metadata": {
  "kernelspec": {
   "display_name": ".venv",
   "language": "python",
   "name": "python3"
  },
  "language_info": {
   "codemirror_mode": {
    "name": "ipython",
    "version": 3
   },
   "file_extension": ".py",
   "mimetype": "text/x-python",
   "name": "python",
   "nbconvert_exporter": "python",
   "pygments_lexer": "ipython3",
   "version": "3.12.3"
  }
 },
 "nbformat": 4,
 "nbformat_minor": 5
}
