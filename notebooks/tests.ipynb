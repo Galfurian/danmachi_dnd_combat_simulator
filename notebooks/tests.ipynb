{
 "cells": [
  {
   "cell_type": "code",
   "execution_count": 2,
   "id": "e098bfc2",
   "metadata": {},
   "outputs": [
    {
     "ename": "ImportError",
     "evalue": "cannot import name 'CharacterRace' from 'character' (/home/enrico/repositories/personal/danmachi_dnd_combat_simulator/simulator/character/__init__.py)",
     "output_type": "error",
     "traceback": [
      "\u001b[31m---------------------------------------------------------------------------\u001b[39m",
      "\u001b[31mImportError\u001b[39m                               Traceback (most recent call last)",
      "\u001b[36mCell\u001b[39m\u001b[36m \u001b[39m\u001b[32mIn[2]\u001b[39m\u001b[32m, line 1\u001b[39m\n\u001b[32m----> \u001b[39m\u001b[32m1\u001b[39m \u001b[38;5;28;01mfrom\u001b[39;00m\u001b[38;5;250m \u001b[39m\u001b[34;01mcharacter\u001b[39;00m\u001b[38;5;250m \u001b[39m\u001b[38;5;28;01mimport\u001b[39;00m Character, CharacterRace, CharacterClass\n\u001b[32m      2\u001b[39m \u001b[38;5;28;01mfrom\u001b[39;00m\u001b[38;5;250m \u001b[39m\u001b[34;01mcore\u001b[39;00m\u001b[38;5;250m \u001b[39m\u001b[38;5;28;01mimport\u001b[39;00m CharacterType\n\u001b[32m      4\u001b[39m dummy_race = CharacterRace(\n\u001b[32m      5\u001b[39m     name=\u001b[33m\"\u001b[39m\u001b[33mConstruct\u001b[39m\u001b[33m\"\u001b[39m,\n\u001b[32m      6\u001b[39m     natural_ac=\u001b[32m0\u001b[39m,\n\u001b[32m      7\u001b[39m     default_actions=[],\n\u001b[32m      8\u001b[39m     default_spells=[],\n\u001b[32m      9\u001b[39m )\n",
      "\u001b[31mImportError\u001b[39m: cannot import name 'CharacterRace' from 'character' (/home/enrico/repositories/personal/danmachi_dnd_combat_simulator/simulator/character/__init__.py)"
     ]
    }
   ],
   "source": [
    "from character import Character, CharacterRace, CharacterClass\n",
    "from core import CharacterType\n",
    "\n",
    "dummy_race = CharacterRace(\n",
    "    name=\"Construct\",\n",
    "    natural_ac=0,\n",
    "    default_actions=[],\n",
    "    default_spells=[],\n",
    ")\n",
    "\n",
    "dummy_class = CharacterClass(\n",
    "    name=\"Construct\",\n",
    "    hp_mult=10,\n",
    "    mind_mult=0,\n",
    "    actions_by_level={},\n",
    "    spells_by_level={},\n",
    ")\n",
    "\n",
    "\n",
    "training_dummy = Character(\n",
    "    char_type=CharacterType.ENEMY,\n",
    "    name=\"Training Dummy\",\n",
    "    race=dummy_race,\n",
    "    levels={dummy_class: 1},\n",
    "    stats={\n",
    "        \"STR\": 10,\n",
    "        \"DEX\": 10,\n",
    "        \"CON\": 10,\n",
    "        \"INT\": 10,\n",
    "        \"WIS\": 10,\n",
    "        \"CHA\": 10,\n",
    "    },\n",
    "    spellcasting_ability=None,\n",
    "    total_hands=0,\n",
    "    resistances=set(),\n",
    "    vulnerabilities=set(),\n",
    "    number_of_attacks=0,\n",
    "    passive_effects=[],\n",
    ")"
   ]
  }
 ],
 "metadata": {
  "kernelspec": {
   "display_name": ".venv",
   "language": "python",
   "name": "python3"
  },
  "language_info": {
   "codemirror_mode": {
    "name": "ipython",
    "version": 3
   },
   "file_extension": ".py",
   "mimetype": "text/x-python",
   "name": "python",
   "nbconvert_exporter": "python",
   "pygments_lexer": "ipython3",
   "version": "3.12.3"
  }
 },
 "nbformat": 4,
 "nbformat_minor": 5
}
